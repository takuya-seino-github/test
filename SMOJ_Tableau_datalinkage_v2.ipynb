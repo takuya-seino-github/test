{
 "cells": [
  {
   "cell_type": "code",
   "execution_count": 1,
   "id": "1d6329a2-81cc-4379-a546-316c0726eda9",
   "metadata": {},
   "outputs": [
    {
     "data": {
      "text/html": [
       "<style>.container { width:50% !important; }</style>"
      ],
      "text/plain": [
       "<IPython.core.display.HTML object>"
      ]
     },
     "metadata": {},
     "output_type": "display_data"
    }
   ],
   "source": [
    "import os\n",
    "import sys\n",
    "import pandas as pd\n",
    "from datetime import datetime\n",
    "from selenium import webdriver\n",
    "from selenium.webdriver.common.by import By\n",
    "from selenium.webdriver import ChromeOptions\n",
    "from selenium.webdriver.chrome.service import Service\n",
    "import time\n",
    "import glob\n",
    "import shutil\n",
    "import datetime\n",
    "import chardet\n",
    "from IPython.display import display, HTML\n",
    "display(HTML(\"<style>.container { width:50% !important; }</style>\"))\n",
    "import pytz"
   ]
  },
  {
   "cell_type": "code",
   "execution_count": null,
   "id": "cd96a342-e634-46c8-ad26-ce6325395621",
   "metadata": {},
   "outputs": [],
   "source": [
    "# カレントディレクトリの取得\n",
    "current_dir = os.getcwd()\n",
    "\n",
    "# 一時ダウンロードフォルダパスの設定\n",
    "tmp_download_dir = f'{current_dir}\\\\tmpDownload'\n",
    "\n",
    "# 一時フォルダの作成\n",
    "if(os.path.isdir(tmp_download_dir)):\n",
    "    print(os.path.isdir(tmp_download_dir))\n",
    "    shutil.rmtree(tmp_download_dir)\n",
    "    os.mkdir(tmp_download_dir)\n",
    "else:\n",
    "    os.mkdir(tmp_download_dir)"
   ]
  },
  {
   "cell_type": "code",
   "execution_count": null,
   "id": "4845aba7-5f0e-43c0-9f99-963b5cd523bd",
   "metadata": {},
   "outputs": [],
   "source": [
    "# Chromeオプション設定でダウンロード先の変更を設定\n",
    "options = webdriver.ChromeOptions()\n",
    "prefs = {'download.default_directory' : tmp_download_dir }\n",
    "options.add_experimental_option('prefs',prefs)"
   ]
  },
  {
   "cell_type": "code",
   "execution_count": null,
   "id": "86f8545a-b601-4612-9dfb-737cf52b6958",
   "metadata": {},
   "outputs": [],
   "source": [
    "# Chromeを起動\n",
    "#browser = webdriver.Chrome(service=Service(ChromeDriverManager().install()),options = options)\n",
    "browser = webdriver.Chrome(options = options)\n",
    "browser.maximize_window()\n",
    "# 要素が見つかるまでの待機時間\n",
    "browser.implicitly_wait(30)"
   ]
  },
  {
   "cell_type": "markdown",
   "id": "4c0a841f-8c60-41d7-af48-c03e02a63c5f",
   "metadata": {},
   "source": [
    "#### Monthly Account PSI ACT　"
   ]
  },
  {
   "cell_type": "code",
   "execution_count": null,
   "id": "2c1a7212-f61c-4164-9e33-607555116a6e",
   "metadata": {},
   "outputs": [],
   "source": [
    "# URL設定\n",
    "TARGET_URL='https://myreport2.smoj.sony.co.jp/#/site/MyReport/views/AIPlanningData/MonthlyAccountPSIACT?:embed=y'\n",
    "PUBLISH_FILE_NAME='C:\\\\Users\\\\0108409762\\\\Desktop\\\\SMOJ_Data_link' #ファイル出力のフォルダ＆ファイル名をフルパスで指定する"
   ]
  },
  {
   "cell_type": "code",
   "execution_count": null,
   "id": "3bc5b109-bc2f-4fbe-be62-722b668b4feb",
   "metadata": {},
   "outputs": [],
   "source": [
    "# ダウンロードするサイトへアクセス\n",
    "browser.get(TARGET_URL)\n",
    "time.sleep(20)\n",
    "print(browser.current_url,'\\n')"
   ]
  },
  {
   "cell_type": "code",
   "execution_count": null,
   "id": "1fe60137-fe48-4273-a864-5153270fdc70",
   "metadata": {},
   "outputs": [],
   "source": [
    "# すべて　ボタン をクリックする(更新する)\n",
    "element = browser.find_element(By.XPATH, value=\"//input[@class='FICheckRadio']\")\n",
    "element.click()\n",
    "time.sleep(3)"
   ]
  },
  {
   "cell_type": "code",
   "execution_count": null,
   "id": "971efb84-f2b2-478f-8170-aae2d054e500",
   "metadata": {},
   "outputs": [],
   "source": [
    "# すべて　ボタン をクリックする(更新する)　２回目で解除\n",
    "element = browser.find_element(By.XPATH, value=\"//input[@class='FICheckRadio']\")\n",
    "element.click()\n",
    "time.sleep(3)"
   ]
  },
  {
   "cell_type": "code",
   "execution_count": null,
   "id": "58b6b885-c574-4442-8493-e21a27ab8d91",
   "metadata": {},
   "outputs": [],
   "source": [
    "# 2024ボタン をクリックする\n",
    "element = browser.find_element(By.XPATH, value=\"//input[@name='FI_sqlproxy.0jbu5x508mk45h1a3v2u51pusr3a,none:Calculation_5113555943609147404:nk1914172539498148363_13601830887683313399_3']\")\n",
    "element.click()\n",
    "time.sleep(3)"
   ]
  },
  {
   "cell_type": "code",
   "execution_count": null,
   "id": "51edb269-831b-4219-be20-288cba515674",
   "metadata": {},
   "outputs": [],
   "source": [
    "# 適用ボタン をクリックする\n",
    "element = browser.find_element(By.XPATH, value=\"//button[@class='tab-button tab-widget apply']\")\n",
    "element.click()\n",
    "time.sleep(10)"
   ]
  },
  {
   "cell_type": "code",
   "execution_count": null,
   "id": "da096633-f247-4c8c-a84d-f7740fa2c66c",
   "metadata": {},
   "outputs": [],
   "source": [
    "# ダウンロード　ボタン をクリックする(更新する)\n",
    "element = browser.find_element(By.XPATH, value=\"//*[@id='download']\")\n",
    "element.click()\n",
    "time.sleep(3)"
   ]
  },
  {
   "cell_type": "code",
   "execution_count": null,
   "id": "b1a5074e-4ff3-4d3a-8d6e-f8162b3de31e",
   "metadata": {},
   "outputs": [],
   "source": [
    "# クロス集計　ボタン をクリックする(更新する)\n",
    "element = browser.find_element(By.XPATH, value=\"//*[@id='viz-viewer-toolbar-download-menu']/div[3]/div\")\n",
    "element.click()\n",
    "time.sleep(3)"
   ]
  },
  {
   "cell_type": "code",
   "execution_count": null,
   "id": "11ec0461-5193-4a47-9cb6-f20d4966dbcf",
   "metadata": {},
   "outputs": [],
   "source": [
    "# CSV　 を選択（クリック）する\n",
    "element = browser.find_element(By.XPATH, value=\"//*[@id='export-crosstab-options-dialog-Dialog-BodyWrapper-Dialog-Body-Id']/div/div[2]/div[2]/div/label[2]\")\n",
    "element.click()\n",
    "time.sleep(3)"
   ]
  },
  {
   "cell_type": "code",
   "execution_count": null,
   "id": "09b568e3-194c-40a7-9f98-5a60b95c07ed",
   "metadata": {},
   "outputs": [],
   "source": [
    "# ダウンロード　ボタン をクリックする\n",
    "element = browser.find_element(By.XPATH, value=\"//*[@id='export-crosstab-options-dialog-Dialog-BodyWrapper-Dialog-Body-Id']/div/div[3]/button\")\n",
    "element.click()\n",
    "time.sleep(30)"
   ]
  },
  {
   "cell_type": "markdown",
   "id": "85608f2f-fb3c-461a-93cf-13af5ee996a1",
   "metadata": {},
   "source": [
    "#### Model Master"
   ]
  },
  {
   "cell_type": "code",
   "execution_count": null,
   "id": "737dc9ab-db11-4c9f-bac2-749e444ee804",
   "metadata": {},
   "outputs": [],
   "source": [
    "# URL設定\n",
    "TARGET_URL='https://myreport2.smoj.sony.co.jp/#/site/MyReport/views/AIPlanningData/ModelMaster?:embed=y'"
   ]
  },
  {
   "cell_type": "code",
   "execution_count": null,
   "id": "7345e77d-5219-4878-b5f1-4bbedced3e7a",
   "metadata": {},
   "outputs": [],
   "source": [
    "# ダウンロードするサイトへアクセス\n",
    "browser.get(TARGET_URL)\n",
    "time.sleep(10)\n",
    "print(browser.current_url,'\\n')"
   ]
  },
  {
   "cell_type": "code",
   "execution_count": null,
   "id": "47f3b031-b748-4d9b-ab96-2c45d5b1102e",
   "metadata": {},
   "outputs": [],
   "source": [
    "# ダウンロード　ボタン をクリックする(更新する)\n",
    "element = browser.find_element(By.XPATH, value=\"//*[@id='download']\")\n",
    "element.click()\n",
    "time.sleep(3)"
   ]
  },
  {
   "cell_type": "code",
   "execution_count": null,
   "id": "ad726d8b-0be7-4a77-9ed4-a6a8d280d35f",
   "metadata": {},
   "outputs": [],
   "source": [
    "# クロス集計　ボタン をクリックする(更新する)\n",
    "element = browser.find_element(By.XPATH, value=\"//*[@id='viz-viewer-toolbar-download-menu']/div[3]/div\")\n",
    "element.click()\n",
    "time.sleep(3)"
   ]
  },
  {
   "cell_type": "code",
   "execution_count": null,
   "id": "5004540c-0afe-46c5-ab8f-71b71d022f36",
   "metadata": {},
   "outputs": [],
   "source": [
    "# CSV　 を選択（クリック）する\n",
    "element = browser.find_element(By.XPATH, value=\"//*[@id='export-crosstab-options-dialog-Dialog-BodyWrapper-Dialog-Body-Id']/div/div[2]/div[2]/div/label[2]\")\n",
    "element.click()\n",
    "time.sleep(3)"
   ]
  },
  {
   "cell_type": "code",
   "execution_count": null,
   "id": "87424db0-f8d5-4319-998b-b7039bcb4f7f",
   "metadata": {},
   "outputs": [],
   "source": [
    "# ダウンロード　ボタン をクリックする\n",
    "element = browser.find_element(By.XPATH, value=\"//*[@id='export-crosstab-options-dialog-Dialog-BodyWrapper-Dialog-Body-Id']/div/div[3]/button\")\n",
    "element.click()\n",
    "time.sleep(10)"
   ]
  },
  {
   "cell_type": "markdown",
   "id": "7e95d840-24f0-4b56-8125-0f24c8381bc6",
   "metadata": {},
   "source": [
    "#### MKT BDRE"
   ]
  },
  {
   "cell_type": "code",
   "execution_count": null,
   "id": "8f4f802b-a2c7-4713-927b-cf96d6f7b890",
   "metadata": {},
   "outputs": [],
   "source": [
    "# URL設定\n",
    "TARGET_URL='https://myreport2.smoj.sony.co.jp/#/site/MyReport/views/AIPlanningData/MKTBDRE?:embed=y'"
   ]
  },
  {
   "cell_type": "code",
   "execution_count": null,
   "id": "551da64e-edd2-4834-9132-6e2296fa6de3",
   "metadata": {},
   "outputs": [],
   "source": [
    "# ダウンロードするサイトへアクセス\n",
    "browser.get(TARGET_URL)\n",
    "time.sleep(10)\n",
    "print(browser.current_url,'\\n')"
   ]
  },
  {
   "cell_type": "code",
   "execution_count": null,
   "id": "fa958b74-69c0-4b4f-b38e-7042997874fb",
   "metadata": {},
   "outputs": [],
   "source": [
    "# すべて　ボタン をクリックする(更新する)\n",
    "element = browser.find_element(By.XPATH, value=\"//input[@class='FICheckRadio']\")\n",
    "element.click()\n",
    "time.sleep(3)"
   ]
  },
  {
   "cell_type": "code",
   "execution_count": null,
   "id": "e7bfeb7d-36bc-499d-8837-11af677beff4",
   "metadata": {},
   "outputs": [],
   "source": [
    "# すべて　ボタン をクリックする(更新する)　２回目で解除\n",
    "element = browser.find_element(By.XPATH, value=\"//input[@class='FICheckRadio']\")\n",
    "element.click()\n",
    "time.sleep(3)"
   ]
  },
  {
   "cell_type": "code",
   "execution_count": null,
   "id": "94a0cb6b-5d71-45ed-8311-866005765360",
   "metadata": {},
   "outputs": [],
   "source": [
    "# ダウンロード　ボタン をクリックする(更新する)\n",
    "element = browser.find_element(By.XPATH, value=\"//*[@id='download']\")\n",
    "element.click()\n",
    "time.sleep(3)"
   ]
  },
  {
   "cell_type": "code",
   "execution_count": null,
   "id": "6aa12be3-be30-403b-8569-4b735ece0a94",
   "metadata": {},
   "outputs": [],
   "source": [
    "# クロス集計　ボタン をクリックする(更新する)\n",
    "element = browser.find_element(By.XPATH, value=\"//*[@id='viz-viewer-toolbar-download-menu']/div[3]/div\")\n",
    "element.click()\n",
    "time.sleep(3)"
   ]
  },
  {
   "cell_type": "code",
   "execution_count": null,
   "id": "244ea4aa-c196-4241-b6d6-0268c963bda4",
   "metadata": {},
   "outputs": [],
   "source": [
    "# CSV　 を選択（クリック）する\n",
    "element = browser.find_element(By.XPATH, value=\"//*[@id='export-crosstab-options-dialog-Dialog-BodyWrapper-Dialog-Body-Id']/div/div[2]/div[2]/div/label[2]\")\n",
    "element.click()\n",
    "time.sleep(3)"
   ]
  },
  {
   "cell_type": "code",
   "execution_count": null,
   "id": "488cb9df-d01b-4ab0-a109-7f6f60525c3d",
   "metadata": {},
   "outputs": [],
   "source": [
    "# ダウンロード　ボタン をクリックする\n",
    "element = browser.find_element(By.XPATH, value=\"//*[@id='export-crosstab-options-dialog-Dialog-BodyWrapper-Dialog-Body-Id']/div/div[3]/button\")\n",
    "element.click()\n",
    "time.sleep(20)"
   ]
  },
  {
   "cell_type": "markdown",
   "id": "2ad7b04d-e39c-4275-af52-4a28be1e16d7",
   "metadata": {},
   "source": [
    "#### MKT Player"
   ]
  },
  {
   "cell_type": "code",
   "execution_count": null,
   "id": "be4c18a0-cdd3-404a-9c11-d32334985d9d",
   "metadata": {},
   "outputs": [],
   "source": [
    "# URL設定\n",
    "TARGET_URL='https://myreport2.smoj.sony.co.jp/#/site/MyReport/views/AIPlanningData/MKTPlayer?:embed=y'"
   ]
  },
  {
   "cell_type": "code",
   "execution_count": null,
   "id": "531f33f6-2804-439c-a341-af8676c76abc",
   "metadata": {},
   "outputs": [],
   "source": [
    "# ダウンロードするサイトへアクセス\n",
    "browser.get(TARGET_URL)\n",
    "time.sleep(10)\n",
    "print(browser.current_url,'\\n')"
   ]
  },
  {
   "cell_type": "code",
   "execution_count": null,
   "id": "a5d08bc2-1e15-44af-ba18-83cae59260e9",
   "metadata": {},
   "outputs": [],
   "source": [
    "# すべて　ボタン をクリックする(更新する)\n",
    "element = browser.find_element(By.XPATH, value=\"//input[@class='FICheckRadio']\")\n",
    "element.click()\n",
    "time.sleep(3)"
   ]
  },
  {
   "cell_type": "code",
   "execution_count": null,
   "id": "9596a857-47b7-4dd5-ae07-25ddc5307729",
   "metadata": {},
   "outputs": [],
   "source": [
    "# すべて　ボタン をクリックする(更新する)　２回目で解除\n",
    "element = browser.find_element(By.XPATH, value=\"//input[@class='FICheckRadio']\")\n",
    "element.click()\n",
    "time.sleep(3)"
   ]
  },
  {
   "cell_type": "code",
   "execution_count": null,
   "id": "b6931800-49a3-4262-86a2-5a93c5ade30c",
   "metadata": {},
   "outputs": [],
   "source": [
    "# ダウンロード　ボタン をクリックする(更新する)\n",
    "element = browser.find_element(By.XPATH, value=\"//*[@id='download']\")\n",
    "element.click()\n",
    "time.sleep(3)"
   ]
  },
  {
   "cell_type": "code",
   "execution_count": null,
   "id": "518542d5-0c38-417b-840d-31659e5b9d79",
   "metadata": {},
   "outputs": [],
   "source": [
    "# クロス集計　ボタン をクリックする(更新する)\n",
    "element = browser.find_element(By.XPATH, value=\"//*[@id='viz-viewer-toolbar-download-menu']/div[3]/div\")\n",
    "element.click()\n",
    "time.sleep(3)"
   ]
  },
  {
   "cell_type": "code",
   "execution_count": null,
   "id": "9f52d493-def7-4c89-8026-4d87a85da555",
   "metadata": {},
   "outputs": [],
   "source": [
    "# CSV　 を選択（クリック）する\n",
    "element = browser.find_element(By.XPATH, value=\"//*[@id='export-crosstab-options-dialog-Dialog-BodyWrapper-Dialog-Body-Id']/div/div[2]/div[2]/div/label[2]\")\n",
    "element.click()\n",
    "time.sleep(3)"
   ]
  },
  {
   "cell_type": "code",
   "execution_count": null,
   "id": "533d86c5-48ec-4d98-a875-d01a888a4f40",
   "metadata": {},
   "outputs": [],
   "source": [
    "# ダウンロード　ボタン をクリックする\n",
    "element = browser.find_element(By.XPATH, value=\"//*[@id='export-crosstab-options-dialog-Dialog-BodyWrapper-Dialog-Body-Id']/div/div[3]/button\")\n",
    "element.click()\n",
    "time.sleep(20)"
   ]
  },
  {
   "cell_type": "markdown",
   "id": "3c567fc8-20dc-44ba-82c8-0a040e3ba774",
   "metadata": {},
   "source": [
    "#### MKT WSP"
   ]
  },
  {
   "cell_type": "code",
   "execution_count": null,
   "id": "0f425c64-e5a2-4dbf-8b2a-fefcaa305e00",
   "metadata": {},
   "outputs": [],
   "source": [
    "# URL設定\n",
    "TARGET_URL='https://myreport2.smoj.sony.co.jp/#/site/MyReport/views/AIPlanningData/MKTWSP?:embed=y'"
   ]
  },
  {
   "cell_type": "code",
   "execution_count": null,
   "id": "4a4d948d-eb17-4a4a-bb5f-079c4ba5b19a",
   "metadata": {},
   "outputs": [],
   "source": [
    "# ダウンロードするサイトへアクセス\n",
    "browser.get(TARGET_URL)\n",
    "time.sleep(10)\n",
    "print(browser.current_url,'\\n')"
   ]
  },
  {
   "cell_type": "code",
   "execution_count": null,
   "id": "1432c3d7-df7c-47f9-943a-90e78c68c70c",
   "metadata": {},
   "outputs": [],
   "source": [
    "# すべて　ボタン をクリックする(更新する)\n",
    "element = browser.find_element(By.XPATH, value=\"//input[@class='FICheckRadio']\")\n",
    "element.click()\n",
    "time.sleep(3)"
   ]
  },
  {
   "cell_type": "code",
   "execution_count": null,
   "id": "a8b84f56-c637-4844-9a4f-576e5bfc4172",
   "metadata": {},
   "outputs": [],
   "source": [
    "# すべて　ボタン をクリックする(更新する)　２回目で解除\n",
    "element = browser.find_element(By.XPATH, value=\"//input[@class='FICheckRadio']\")\n",
    "element.click()\n",
    "time.sleep(3)"
   ]
  },
  {
   "cell_type": "code",
   "execution_count": null,
   "id": "b735dffd-5d46-4c6c-bb6a-af0aa5df741e",
   "metadata": {},
   "outputs": [],
   "source": [
    "# ダウンロード　ボタン をクリックする(更新する)\n",
    "element = browser.find_element(By.XPATH, value=\"//*[@id='download']\")\n",
    "element.click()\n",
    "time.sleep(3)"
   ]
  },
  {
   "cell_type": "code",
   "execution_count": null,
   "id": "720ebe63-467b-40e1-b526-80574a3e2fce",
   "metadata": {},
   "outputs": [],
   "source": [
    "# クロス集計　ボタン をクリックする(更新する)\n",
    "element = browser.find_element(By.XPATH, value=\"//*[@id='viz-viewer-toolbar-download-menu']/div[3]/div\")\n",
    "element.click()\n",
    "time.sleep(3)"
   ]
  },
  {
   "cell_type": "code",
   "execution_count": null,
   "id": "7f7b3c87-bf83-43e2-add0-26b77b062fbc",
   "metadata": {},
   "outputs": [],
   "source": [
    "# CSV　 を選択（クリック）する\n",
    "element = browser.find_element(By.XPATH, value=\"//*[@id='export-crosstab-options-dialog-Dialog-BodyWrapper-Dialog-Body-Id']/div/div[2]/div[2]/div/label[2]\")\n",
    "element.click()\n",
    "time.sleep(3)"
   ]
  },
  {
   "cell_type": "code",
   "execution_count": null,
   "id": "7c46ba05-72e8-429b-a146-6d90723f0e0b",
   "metadata": {},
   "outputs": [],
   "source": [
    "# ダウンロード　ボタン をクリックする\n",
    "element = browser.find_element(By.XPATH, value=\"//*[@id='export-crosstab-options-dialog-Dialog-BodyWrapper-Dialog-Body-Id']/div/div[3]/button\")\n",
    "element.click()\n",
    "time.sleep(40)"
   ]
  },
  {
   "cell_type": "markdown",
   "id": "8d1910c7-4a12-4c26-b89b-36184a1f1f35",
   "metadata": {},
   "source": [
    "#### MKT STDHP"
   ]
  },
  {
   "cell_type": "code",
   "execution_count": null,
   "id": "174e494d-7095-4090-a346-49fe0fce675f",
   "metadata": {},
   "outputs": [],
   "source": [
    "# URL設定\n",
    "TARGET_URL='https://myreport2.smoj.sony.co.jp/#/site/MyReport/views/AIPlanningData/MKTStd_HP?:embed=y'"
   ]
  },
  {
   "cell_type": "code",
   "execution_count": null,
   "id": "e852b230-43cf-4b39-a7a7-4f61d07b4c6b",
   "metadata": {},
   "outputs": [],
   "source": [
    "# ダウンロードするサイトへアクセス\n",
    "browser.get(TARGET_URL)\n",
    "time.sleep(120)\n",
    "print(browser.current_url,'\\n')"
   ]
  },
  {
   "cell_type": "code",
   "execution_count": null,
   "id": "44053863-05ce-498b-b4b6-37b498864158",
   "metadata": {},
   "outputs": [],
   "source": [
    "# すべて　ボタン をクリックする(更新する)\n",
    "element = browser.find_element(By.XPATH, value=\"//input[@class='FICheckRadio']\")\n",
    "element.click()\n",
    "time.sleep(3)"
   ]
  },
  {
   "cell_type": "code",
   "execution_count": null,
   "id": "33fdb0ab-cbba-431e-9e2d-52fb62ed6459",
   "metadata": {},
   "outputs": [],
   "source": [
    "# すべて　ボタン をクリックする(更新する)　２回目で解除\n",
    "element = browser.find_element(By.XPATH, value=\"//input[@class='FICheckRadio']\")\n",
    "element.click()\n",
    "time.sleep(3)"
   ]
  },
  {
   "cell_type": "code",
   "execution_count": null,
   "id": "068e52b2-eadd-4133-bfe1-0bce5401bd17",
   "metadata": {},
   "outputs": [],
   "source": [
    "# ダウンロード　ボタン をクリックする(更新する)\n",
    "element = browser.find_element(By.XPATH, value=\"//*[@id='download']\")\n",
    "element.click()\n",
    "time.sleep(3)"
   ]
  },
  {
   "cell_type": "code",
   "execution_count": null,
   "id": "dde0c600-d634-4159-b2fe-89d7c06fa5dd",
   "metadata": {},
   "outputs": [],
   "source": [
    "# クロス集計　ボタン をクリックする(更新する)\n",
    "element = browser.find_element(By.XPATH, value=\"//*[@id='viz-viewer-toolbar-download-menu']/div[3]/div\")\n",
    "element.click()\n",
    "time.sleep(3)"
   ]
  },
  {
   "cell_type": "code",
   "execution_count": null,
   "id": "5953fa50-18b6-4dc2-920e-811fc793796e",
   "metadata": {},
   "outputs": [],
   "source": [
    "# CSV　 を選択（クリック）する\n",
    "element = browser.find_element(By.XPATH, value=\"//*[@id='export-crosstab-options-dialog-Dialog-BodyWrapper-Dialog-Body-Id']/div/div[2]/div[2]/div/label[2]\")\n",
    "element.click()\n",
    "time.sleep(3)"
   ]
  },
  {
   "cell_type": "code",
   "execution_count": null,
   "id": "19a23c5a-746b-470c-b0b1-4a9010ab718a",
   "metadata": {},
   "outputs": [],
   "source": [
    "# ダウンロード　ボタン をクリックする\n",
    "element = browser.find_element(By.XPATH, value=\"//*[@id='export-crosstab-options-dialog-Dialog-BodyWrapper-Dialog-Body-Id']/div/div[3]/button\")\n",
    "element.click()\n",
    "time.sleep(120)"
   ]
  },
  {
   "cell_type": "markdown",
   "id": "252726d1-1b2d-4bc1-aa89-58a40260c84f",
   "metadata": {},
   "source": [
    "#### Close"
   ]
  },
  {
   "cell_type": "code",
   "execution_count": null,
   "id": "8ad83f92-465a-405f-9a76-82110e95064c",
   "metadata": {},
   "outputs": [],
   "source": [
    "# # ドライバーをクローズ\n",
    "# browser.close()\n",
    "# browser.quit()"
   ]
  },
  {
   "cell_type": "markdown",
   "id": "f27b866d-79fe-4c09-9c02-281867dbf1bb",
   "metadata": {},
   "source": [
    "## ETL for Azure blob"
   ]
  },
  {
   "cell_type": "code",
   "execution_count": null,
   "id": "8b00b5fb-e05b-4d77-ad4a-c686d14deccb",
   "metadata": {},
   "outputs": [],
   "source": [
    "df_SO = pd.read_csv(r\"C:\\Users\\0108409762\\Desktop\\SMOJ_Data_link\\tmpDownload\\Monthly Account PSI ACT.csv\",\n",
    "                    usecols=['Sales Company Detail CD', 'Data Type CD', 'Product CD', 'Local Model NM', 'Dealer NM',\n",
    "                             'YearMonth', 'QTY の合計'], encoding='UTF-16', sep='\\t')"
   ]
  },
  {
   "cell_type": "code",
   "execution_count": null,
   "id": "d9994064-0241-448a-bb73-06590f1cf09e",
   "metadata": {},
   "outputs": [],
   "source": [
    "# df_SO.info()"
   ]
  },
  {
   "cell_type": "code",
   "execution_count": null,
   "id": "59deed52-7d0f-4039-9c38-fae5e9229683",
   "metadata": {},
   "outputs": [],
   "source": [
    "df_SO = df_SO[df_SO['Data Type CD']=='Sell-out']"
   ]
  },
  {
   "cell_type": "code",
   "execution_count": null,
   "id": "1c97c45c-514f-482d-a3c3-54325b2bc19c",
   "metadata": {},
   "outputs": [],
   "source": [
    "df_SO['QTY の合計'] = df_SO['QTY の合計'].str.replace(',', '')\n",
    "df_SO['QTY の合計'] = df_SO['QTY の合計'].astype(int)\n",
    "df_SO['QTY の合計'] = df_SO['QTY の合計'].fillna(0)"
   ]
  },
  {
   "cell_type": "code",
   "execution_count": null,
   "id": "a8a249b5-cce5-4d38-b124-69a4d7ac167b",
   "metadata": {},
   "outputs": [],
   "source": [
    "df_SO.rename(columns={'QTY の合計': 'sellout_act','Sales Company Detail CD':'fsmc', 'Upload Category':'category', 'Dealer NM':'dealer'}, inplace=True)"
   ]
  },
  {
   "cell_type": "code",
   "execution_count": null,
   "id": "22a7609e-95a4-4201-98de-db9697d5e607",
   "metadata": {},
   "outputs": [],
   "source": [
    "# df_SO = df_SO[df_SO['Dealer NM']!='その他']\n",
    "#df_SO['Dealer NM'].unique()\n",
    "# df_SO['sellout_act'].fillna(0,inplace=True)"
   ]
  },
  {
   "cell_type": "code",
   "execution_count": null,
   "id": "7fbe1cff-ecaf-4215-ad9b-1d4972c78fce",
   "metadata": {},
   "outputs": [],
   "source": [
    "#df_SO[df_SO['sellout_act'].isnull()]"
   ]
  },
  {
   "cell_type": "code",
   "execution_count": null,
   "id": "039e295b-9e91-47e1-9a93-925c4c1cc902",
   "metadata": {},
   "outputs": [],
   "source": [
    "df_SO['YearMonth'] = df_SO['YearMonth'].astype(str)"
   ]
  },
  {
   "cell_type": "code",
   "execution_count": null,
   "id": "c9854f61-1779-4e68-a221-15f75c316892",
   "metadata": {},
   "outputs": [],
   "source": [
    "df_SO['year'] = df_SO['YearMonth'].str[:4].astype(int)\n",
    "df_SO['month'] = df_SO['YearMonth'].str[-2:].astype(int)"
   ]
  },
  {
   "cell_type": "code",
   "execution_count": null,
   "id": "c6ddb7e2-ca07-4d92-8fc4-f85412031a15",
   "metadata": {},
   "outputs": [],
   "source": [
    "# df_SO['Product CD'] = df_SO['Product CD'].str.split('A').str[-1]"
   ]
  },
  {
   "cell_type": "code",
   "execution_count": null,
   "id": "ace84c3e-9dac-416d-9ad2-eaada40efa8c",
   "metadata": {},
   "outputs": [],
   "source": [
    "df_MM = pd.read_csv(r\"C:\\Users\\0108409762\\Desktop\\SMOJ_Data_link\\tmpDownload\\Model Master_SMOJ.csv\", encoding='UTF-16', sep='\\t', \n",
    "                    usecols=['商品コード','Product_NM'])"
   ]
  },
  {
   "cell_type": "code",
   "execution_count": null,
   "id": "d5afbe65-1a7d-4ec1-974d-c9070abc67ba",
   "metadata": {},
   "outputs": [],
   "source": [
    "df_SO1 = pd.merge(df_SO, df_MM, left_on='Product CD', right_on='商品コード', how='inner')"
   ]
  },
  {
   "cell_type": "code",
   "execution_count": null,
   "id": "692b7371-214d-40b8-a03b-93b6e7cc9b72",
   "metadata": {},
   "outputs": [],
   "source": [
    "df_MA = pd.read_csv(r\"C:\\Users\\0108409762\\Desktop\\SMOJ_Data_link\\Japan_Mapping_simple.csv\")"
   ]
  },
  {
   "cell_type": "code",
   "execution_count": null,
   "id": "740120e0-c62c-4983-8f7c-65801b23a607",
   "metadata": {},
   "outputs": [],
   "source": [
    "df_SO1 = pd.merge(df_SO1, df_MA, left_on='Product_NM', right_on='Model', how='inner')"
   ]
  },
  {
   "cell_type": "code",
   "execution_count": null,
   "id": "f9e2f916-721e-4c11-9d65-4f550735459a",
   "metadata": {},
   "outputs": [],
   "source": [
    "df_SO1['country'] = 'JP'\n",
    "df_SO1['week'] = ''"
   ]
  },
  {
   "cell_type": "code",
   "execution_count": null,
   "id": "d888653e-94d6-40cd-83fe-c6cfa39065b5",
   "metadata": {},
   "outputs": [],
   "source": [
    "df_SO1['target_dealer_flg'] = 1"
   ]
  },
  {
   "cell_type": "code",
   "execution_count": null,
   "id": "6b44f0c3-d3c4-4340-b8e5-c97beee12354",
   "metadata": {},
   "outputs": [],
   "source": [
    "df_SO1.loc[df_SO1['dealer'] == 'その他', 'target_dealer_flg'] = 0"
   ]
  },
  {
   "cell_type": "code",
   "execution_count": null,
   "id": "a65a06d8-e6ed-4f51-b45c-a44318f7424b",
   "metadata": {},
   "outputs": [],
   "source": [
    "#check\n",
    "print(df_SO1[df_SO1['dealer'] == 'その他']['target_dealer_flg'].unique())"
   ]
  },
  {
   "cell_type": "code",
   "execution_count": null,
   "id": "ffee7070-05cf-46c3-ac8a-b5e80a69f1a5",
   "metadata": {},
   "outputs": [],
   "source": [
    "df_SO1.rename(columns={'Product_NM': 'product', 'Category': 'category'}, inplace=True)"
   ]
  },
  {
   "cell_type": "code",
   "execution_count": null,
   "id": "ef9bfdf0-6015-4854-aec7-c5d5cb9f2dc8",
   "metadata": {},
   "outputs": [],
   "source": [
    "df_SO1.drop(['Data Type CD', 'Product CD', 'Local Model NM','YearMonth','商品コード'], axis=1, inplace=True)"
   ]
  },
  {
   "cell_type": "code",
   "execution_count": null,
   "id": "e125822f-a9e7-4c40-966e-8a16eba60c0e",
   "metadata": {},
   "outputs": [],
   "source": [
    "#check\n",
    "df_SO1.groupby('category')['sellout_act'].sum()"
   ]
  },
  {
   "cell_type": "code",
   "execution_count": null,
   "id": "73c30fbd-a5a4-4f11-bb5d-66a1c4b4855d",
   "metadata": {},
   "outputs": [],
   "source": [
    "df_SO2 = df_SO1.groupby(['fsmc','country','category','product','dealer','target_dealer_flg','year','month','week'])['sellout_act'].sum().reset_index()"
   ]
  },
  {
   "cell_type": "code",
   "execution_count": null,
   "id": "df0b5c32-968e-4cba-b05a-1f4ad4b84e2b",
   "metadata": {},
   "outputs": [],
   "source": [
    "#check\n",
    "df_SO2.sort_values('month')"
   ]
  },
  {
   "cell_type": "code",
   "execution_count": null,
   "id": "1c0096a8-7204-4468-bb41-6d7a98176689",
   "metadata": {},
   "outputs": [],
   "source": [
    "type(df_SO2)"
   ]
  },
  {
   "cell_type": "code",
   "execution_count": null,
   "id": "5dbcbf6e-5b24-4bfd-ba06-c48505b69b59",
   "metadata": {},
   "outputs": [],
   "source": [
    "df_SO2['created_at'] = datetime.datetime.now(pytz.timezone('Asia/Tokyo'))\n",
    "#df_SO2['created_at'] = datetime.datetime.now()"
   ]
  },
  {
   "cell_type": "code",
   "execution_count": null,
   "id": "021ac440-396d-4a3e-be1a-26f18c641d2c",
   "metadata": {},
   "outputs": [],
   "source": [
    "df_SO2 = df_SO2[['fsmc','country','category','product','dealer','target_dealer_flg', 'year', 'month','week', 'sellout_act','created_at']]"
   ]
  },
  {
   "cell_type": "code",
   "execution_count": null,
   "id": "7f74ff02-f9ea-4f9a-8e38-08d55f22468d",
   "metadata": {},
   "outputs": [],
   "source": [
    "#check\n",
    "df_SO2.groupby('category')['sellout_act'].sum()"
   ]
  },
  {
   "cell_type": "code",
   "execution_count": null,
   "id": "47a29225-efe8-42da-b179-10d73935b661",
   "metadata": {},
   "outputs": [],
   "source": [
    "upload_data = df_SO2.to_csv(index=False)"
   ]
  },
  {
   "cell_type": "code",
   "execution_count": null,
   "id": "f14017fc-b1d8-4eb6-b881-d6cab9bd430d",
   "metadata": {},
   "outputs": [],
   "source": [
    "#df_SO2.to_csv('SMOJ_FY24_Act_data_for_Azure.csv', index=False)"
   ]
  },
  {
   "cell_type": "markdown",
   "id": "c4a1e9f2-3936-4e95-88ef-33de0693bf5a",
   "metadata": {},
   "source": [
    "### Upload to Blob"
   ]
  },
  {
   "cell_type": "markdown",
   "id": "7a2a21df-2266-41cc-aca9-8df0682656d8",
   "metadata": {},
   "source": [
    "#### 1_Sellout_for_Dashboard"
   ]
  },
  {
   "cell_type": "code",
   "execution_count": 2,
   "id": "07bc19ac-d285-45b5-b2a9-714592fa47f4",
   "metadata": {},
   "outputs": [],
   "source": [
    "import os, uuid, io\n",
    "from azure.identity import DefaultAzureCredential\n",
    "#from azure.storage.blob import BlobServiceClient, ContainerClient, BlobBlock, BlobClient, StandardBlobTier\n",
    "from azure.storage.blob import BlobServiceClient, BlobClient, ContainerClient"
   ]
  },
  {
   "cell_type": "code",
   "execution_count": null,
   "id": "19ad3897-42fd-43d6-ba83-cae92c1c4ce3",
   "metadata": {},
   "outputs": [],
   "source": [
    "# log_path = os.path.join(os.getcwd(), 'SMOJ_FY24_Act_data_for_Azure.csv')"
   ]
  },
  {
   "cell_type": "code",
   "execution_count": null,
   "id": "236c69d5-cd64-4656-ab35-340a386c327f",
   "metadata": {},
   "outputs": [],
   "source": [
    "container_name = \"dataiku-biplanning\"\n",
    "#/demand-forecast/sellout-actual-productwise/smoj\"\n",
    "account_url = \"https://sadataikuprodjpeast001.blob.core.windows.net\"\n",
    "credential = DefaultAzureCredential()\n",
    "blob_file_name = '/demand-forecast/sellout-actual-dealerwise/smoj/SMOJ_FY24_Act_data_for_Azure.csv'"
   ]
  },
  {
   "cell_type": "code",
   "execution_count": null,
   "id": "39f7efb5-237c-46ad-acd0-2b70af64ca3d",
   "metadata": {},
   "outputs": [],
   "source": [
    "blob_service_client = BlobServiceClient(account_url, credential=credential)"
   ]
  },
  {
   "cell_type": "code",
   "execution_count": null,
   "id": "c6bcfa51-331f-4f94-b224-af4fe0d45461",
   "metadata": {},
   "outputs": [],
   "source": [
    "#アップロード\n",
    "blob_client = blob_service_client.get_blob_client(container=container_name, blob=blob_file_name)\n",
    "\n",
    "try:\n",
    "    blob_client.upload_blob(upload_data, overwrite=True)\n",
    "except:\n",
    "    print('Error')\n",
    "    \n",
    "#blob_client.upload_blob(upload_data, overwrite=True)\n",
    "# try:\n",
    "#     with open(file=log_path, mode='rb') as data:\n",
    "#         blob_client.upload_blob(data)\n",
    "# except:\n",
    "#     print('Error')"
   ]
  },
  {
   "cell_type": "markdown",
   "id": "a40be818-d028-4a96-955c-1dbc0cf5ac1d",
   "metadata": {},
   "source": [
    "#### 2_Sellout_for_Dataiku"
   ]
  },
  {
   "cell_type": "code",
   "execution_count": null,
   "id": "25976345-cf26-4e33-b57a-dd3b0d1e30a7",
   "metadata": {},
   "outputs": [],
   "source": [
    "container_name = \"dataiku-biplanning\"\n",
    "account_url = \"https://sadataikuprodjpeast001.blob.core.windows.net\"\n",
    "credential = DefaultAzureCredential()\n",
    "blob_file_name = '/member-folder/takuya-seino/Monthly Account PSI ACT.csv'"
   ]
  },
  {
   "cell_type": "code",
   "execution_count": null,
   "id": "818cb2c6-9870-4a2c-b115-c51f1dbec96a",
   "metadata": {},
   "outputs": [],
   "source": [
    "blob_service_client = BlobServiceClient(account_url, credential=credential)"
   ]
  },
  {
   "cell_type": "code",
   "execution_count": null,
   "id": "2f9ef98c-f782-4fc9-8d04-b29551acf698",
   "metadata": {},
   "outputs": [],
   "source": [
    "raw_data = pd.read_csv(r\"C:\\Users\\0108409762\\Desktop\\SMOJ_Data_link\\tmpDownload\\Monthly Account PSI ACT.csv\", encoding='UTF-16', sep='\\t')"
   ]
  },
  {
   "cell_type": "code",
   "execution_count": null,
   "id": "c4d5c5e9-9d01-4fe6-a392-48758971f6ef",
   "metadata": {},
   "outputs": [],
   "source": [
    "raw_data = raw_data.to_csv(index=False)"
   ]
  },
  {
   "cell_type": "code",
   "execution_count": null,
   "id": "92f4d8ea-1e97-4ac0-886d-19da121214f7",
   "metadata": {},
   "outputs": [],
   "source": [
    "#アップロード\n",
    "blob_client = blob_service_client.get_blob_client(container=container_name, blob=blob_file_name)\n",
    "\n",
    "try:\n",
    "    blob_client.upload_blob(raw_data, overwrite=True)\n",
    "except:\n",
    "    print('Error')"
   ]
  },
  {
   "cell_type": "code",
   "execution_count": null,
   "id": "9aa1bf42-01e4-4812-8cee-131451c9cdbb",
   "metadata": {},
   "outputs": [],
   "source": [
    "container_name = \"dataiku-biplanning\"\n",
    "account_url = \"https://sadataikuprodjpeast001.blob.core.windows.net\"\n",
    "credential = DefaultAzureCredential()\n",
    "blob_file_name = '/member-folder/takuya-seino/Model Master_SMOJ.csv'"
   ]
  },
  {
   "cell_type": "code",
   "execution_count": null,
   "id": "23c58c00-b1f5-40aa-a82c-95401360d1b5",
   "metadata": {},
   "outputs": [],
   "source": [
    "blob_service_client = BlobServiceClient(account_url, credential=credential)"
   ]
  },
  {
   "cell_type": "code",
   "execution_count": null,
   "id": "4f3b3fa1-7ce7-4360-bd66-27ca8a390af3",
   "metadata": {},
   "outputs": [],
   "source": [
    "MM = pd.read_csv(r\"C:\\Users\\0108409762\\Desktop\\SMOJ_Data_link\\tmpDownload\\Model Master_SMOJ.csv\", encoding='UTF-16', sep='\\t')\n",
    "MM = MM.to_csv(index=False)"
   ]
  },
  {
   "cell_type": "code",
   "execution_count": null,
   "id": "b34772f6-ea67-45dc-b8de-4c6ddfe22390",
   "metadata": {},
   "outputs": [],
   "source": [
    "#アップロード\n",
    "blob_client = blob_service_client.get_blob_client(container=container_name, blob=blob_file_name)\n",
    "\n",
    "try:\n",
    "    blob_client.upload_blob(MM, overwrite=True)\n",
    "except:\n",
    "    print('Error')"
   ]
  },
  {
   "cell_type": "markdown",
   "id": "79815997-5f54-4d5f-aa4f-b42752f6e367",
   "metadata": {},
   "source": [
    "#### 3_Market"
   ]
  },
  {
   "cell_type": "markdown",
   "id": "c34fe374-c9e4-43dd-bd7f-2d6e4759f23e",
   "metadata": {},
   "source": [
    "##### HV"
   ]
  },
  {
   "cell_type": "code",
   "execution_count": 3,
   "id": "b2c70c85-df89-491b-8b18-f88ea8d5c113",
   "metadata": {},
   "outputs": [],
   "source": [
    "container_name = \"dataiku-biplanning\"\n",
    "account_url = \"https://sadataikuprodjpeast001.blob.core.windows.net\"\n",
    "credential = DefaultAzureCredential()\n",
    "blob_file_name = '/member-folder/takuya-seino/HV.csv'\n",
    "blob_service_client = BlobServiceClient(account_url, credential=credential)"
   ]
  },
  {
   "cell_type": "code",
   "execution_count": 14,
   "id": "9a7871c8-21d4-42c1-a2de-16ef65cf9d42",
   "metadata": {},
   "outputs": [],
   "source": [
    "HVR = pd.read_csv(r\"C:\\Users\\0108409762\\Desktop\\SMOJ_Data_link\\tmpDownload\\BDRE.csv\", encoding='UTF-16', sep='\\t')\n",
    "HVP = pd.read_csv(r\"C:\\Users\\0108409762\\Desktop\\SMOJ_Data_link\\tmpDownload\\Player.csv\", encoding='UTF-16', sep='\\t')"
   ]
  },
  {
   "cell_type": "code",
   "execution_count": 15,
   "id": "c704c92b-94c3-4a7d-b6aa-310d8d4b0766",
   "metadata": {},
   "outputs": [],
   "source": [
    "HV = pd.concat([HVR, HVP], ignore_index=True)\n",
    "HV = HV.to_csv(index=False)"
   ]
  },
  {
   "cell_type": "code",
   "execution_count": 16,
   "id": "017c3d93-573f-4530-bccc-eacda2092c0f",
   "metadata": {},
   "outputs": [],
   "source": [
    "#アップロード\n",
    "blob_client = blob_service_client.get_blob_client(container=container_name, blob=blob_file_name)\n",
    "\n",
    "try:\n",
    "    blob_client.upload_blob(HV, overwrite=True)\n",
    "except:\n",
    "    print('Error')"
   ]
  },
  {
   "cell_type": "markdown",
   "id": "118805a5-fca1-4683-8108-494d271ed805",
   "metadata": {},
   "source": [
    "##### WSP"
   ]
  },
  {
   "cell_type": "code",
   "execution_count": 17,
   "id": "67e3dea8-ee7a-4c99-8b42-c6a7248af3f0",
   "metadata": {},
   "outputs": [],
   "source": [
    "container_name = \"dataiku-biplanning\"\n",
    "account_url = \"https://sadataikuprodjpeast001.blob.core.windows.net\"\n",
    "credential = DefaultAzureCredential()\n",
    "blob_file_name = '/member-folder/takuya-seino/WSP.csv'\n",
    "blob_service_client = BlobServiceClient(account_url, credential=credential)"
   ]
  },
  {
   "cell_type": "code",
   "execution_count": 18,
   "id": "a89eedb7-3dce-4212-b4cc-4ab4c3dabd6c",
   "metadata": {},
   "outputs": [],
   "source": [
    "WSP = pd.read_csv(r\"C:\\Users\\0108409762\\Desktop\\SMOJ_Data_link\\tmpDownload\\WSP.csv\", encoding='UTF-16', sep='\\t')"
   ]
  },
  {
   "cell_type": "code",
   "execution_count": 19,
   "id": "fd183bc8-250f-4a66-a4ed-0a68839bc371",
   "metadata": {},
   "outputs": [],
   "source": [
    "WSP = WSP.to_csv(index=False)"
   ]
  },
  {
   "cell_type": "code",
   "execution_count": 20,
   "id": "cf4efb92-4fe2-4d52-a7d9-c42332ebbc27",
   "metadata": {},
   "outputs": [],
   "source": [
    "#アップロード\n",
    "blob_client = blob_service_client.get_blob_client(container=container_name, blob=blob_file_name)\n",
    "\n",
    "try:\n",
    "    blob_client.upload_blob(WSP, overwrite=True)\n",
    "except:\n",
    "    print('Error')"
   ]
  },
  {
   "cell_type": "markdown",
   "id": "ba772d50-04b1-4519-bbb0-ffd39b1c0bca",
   "metadata": {},
   "source": [
    "##### STDHP"
   ]
  },
  {
   "cell_type": "code",
   "execution_count": null,
   "id": "7a78b44c-a565-4a90-a6b6-5a1ecfb374be",
   "metadata": {},
   "outputs": [],
   "source": [
    "container_name = \"dataiku-biplanning\"\n",
    "account_url = \"https://sadataikuprodjpeast001.blob.core.windows.net\"\n",
    "credential = DefaultAzureCredential()\n",
    "blob_file_name = '/member-folder/takuya-seino/STDHP.csv'\n",
    "blob_service_client = BlobServiceClient(account_url, credential=credential)"
   ]
  },
  {
   "cell_type": "code",
   "execution_count": null,
   "id": "75d3021b-12d0-4be9-97cd-930f115bc432",
   "metadata": {},
   "outputs": [],
   "source": [
    "STDHP = pd.read_csv(r\"C:\\Users\\0108409762\\Desktop\\SMOJ_Data_link\\tmpDownload\\MKT_Std.HP.csv\", encoding='UTF-16', sep='\\t')"
   ]
  },
  {
   "cell_type": "code",
   "execution_count": null,
   "id": "0808f510-5c97-4a16-a4d5-5b4b206c4370",
   "metadata": {},
   "outputs": [],
   "source": [
    "STDHP = STDHP.to_csv(index=False)"
   ]
  },
  {
   "cell_type": "code",
   "execution_count": null,
   "id": "838e5053-13b2-41ed-b95d-abb5a496c409",
   "metadata": {},
   "outputs": [],
   "source": [
    "#アップロード\n",
    "blob_client = blob_service_client.get_blob_client(container=container_name, blob=blob_file_name)\n",
    "\n",
    "try:\n",
    "    blob_client.upload_blob(STDHP, overwrite=True)\n",
    "except:\n",
    "    print('Error')"
   ]
  }
 ],
 "metadata": {
  "kernelspec": {
   "display_name": "Python 3 (ipykernel)",
   "language": "python",
   "name": "python3"
  },
  "language_info": {
   "codemirror_mode": {
    "name": "ipython",
    "version": 3
   },
   "file_extension": ".py",
   "mimetype": "text/x-python",
   "name": "python",
   "nbconvert_exporter": "python",
   "pygments_lexer": "ipython3",
   "version": "3.12.1"
  }
 },
 "nbformat": 4,
 "nbformat_minor": 5
}
